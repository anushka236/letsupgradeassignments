{
 "cells": [
  {
   "cell_type": "markdown",
   "metadata": {},
   "source": [
    "## DAY-1 ASSIGNMENT\n",
    "\n",
    "\n"
   ]
  },
  {
   "cell_type": "markdown",
   "metadata": {},
   "source": [
    "### Questions 1:Given the following jumbled word, OBANWRI guess the correct English word.\n",
    "##### A. RANIBOW       B. RAINBOW        C. BOWRANI      D. ROBWANI"
   ]
  },
  {
   "cell_type": "code",
   "execution_count": 1,
   "metadata": {},
   "outputs": [
    {
     "name": "stdout",
     "output_type": "stream",
     "text": [
      "guess the correct English word:OBANWRI \n",
      "['RANIBOW', 'RAINBOW', 'BOWRANI', 'ROBWANI']\n",
      "ENTER ANSWER FROME THE ABOVE LIST : rainbow\n",
      "CORRECT ANSWER !!\n"
     ]
    }
   ],
   "source": [
    "print(\"guess the correct English word:OBANWRI \")\n",
    "words= [\"RANIBOW\", \"RAINBOW\", \"BOWRANI\", \"ROBWANI\"]\n",
    "print(words)\n",
    "i= input(\"ENTER ANSWER FROME THE ABOVE LIST : \")\n",
    "if i.upper()==\"RAINBOW\":\n",
    "    print(\"CORRECT ANSWER !!\")\n",
    "else:\n",
    "    print(\"INCORRECT ANSWER.\")"
   ]
  },
  {
   "cell_type": "markdown",
   "metadata": {},
   "source": [
    "### QUESTIONS-2: Write a program which prints “LETS UPGRADE”. "
   ]
  },
  {
   "cell_type": "code",
   "execution_count": 2,
   "metadata": {},
   "outputs": [
    {
     "name": "stdout",
     "output_type": "stream",
     "text": [
      "LETS UPGRADE\n"
     ]
    }
   ],
   "source": [
    "word = \"Lets Upgrade\"\n",
    "print(word.upper())"
   ]
  },
  {
   "cell_type": "markdown",
   "metadata": {},
   "source": [
    "### QUESTION-3 : Write a program that takes cost price and selling price as input and displays whether the transaction is a Profit or a Loss or Neither."
   ]
  },
  {
   "cell_type": "code",
   "execution_count": 3,
   "metadata": {},
   "outputs": [
    {
     "name": "stdout",
     "output_type": "stream",
     "text": [
      "Enter Cost Price 100\n",
      "Enter Selling Price80\n",
      "Loss\n"
     ]
    }
   ],
   "source": [
    "cp= int(input(\"Enter Cost Price \"))\n",
    "sp= int(input(\"Enter Selling Price\"))\n",
    "if cp >sp:\n",
    "    print(\"Loss\")\n",
    "elif cp < sp:\n",
    "    print(\"Profit\")\n",
    "else:\n",
    "    print(\"Neither\")"
   ]
  },
  {
   "cell_type": "markdown",
   "metadata": {},
   "source": [
    "### QUESTION-4 : Write a program that takes an amount in Indian Rupees as input. You need to find its equivalent in Euro and display it. Assume 1 Euro equals Rs. 80.\n"
   ]
  },
  {
   "cell_type": "code",
   "execution_count": 4,
   "metadata": {},
   "outputs": [
    {
     "name": "stdout",
     "output_type": "stream",
     "text": [
      "56\n",
      "0.7\n"
     ]
    }
   ],
   "source": [
    "amtinrupee= int(input())\n",
    "amtineuro=amtinrupee/80\n",
    "print(amtineuro)"
   ]
  },
  {
   "cell_type": "code",
   "execution_count": null,
   "metadata": {},
   "outputs": [],
   "source": []
  }
 ],
 "metadata": {
  "kernelspec": {
   "display_name": "Python 3",
   "language": "python",
   "name": "python3"
  },
  "language_info": {
   "codemirror_mode": {
    "name": "ipython",
    "version": 3
   },
   "file_extension": ".py",
   "mimetype": "text/x-python",
   "name": "python",
   "nbconvert_exporter": "python",
   "pygments_lexer": "ipython3",
   "version": "3.7.6"
  }
 },
 "nbformat": 4,
 "nbformat_minor": 4
}
