{
 "cells": [
  {
   "cell_type": "markdown",
   "metadata": {},
   "source": [
    "## DAY-2 ASSIGNMENT\n"
   ]
  },
  {
   "cell_type": "markdown",
   "metadata": {},
   "source": [
    "### Questions 1:Create an empty list. Accept 10 numbers from the user and append to it the list if it is an even number."
   ]
  },
  {
   "cell_type": "code",
   "execution_count": 4,
   "metadata": {},
   "outputs": [
    {
     "name": "stdout",
     "output_type": "stream",
     "text": [
      "ENTER THE NUMBER: 12\n",
      "ENTER THE NUMBER: 12\n",
      "ENTER THE NUMBER: 44\n",
      "ENTER THE NUMBER: 66\n",
      "ENTER THE NUMBER: 33\n",
      "ENTER THE NUMBER: 22\n",
      "ENTER THE NUMBER: 55\n",
      "ENTER THE NUMBER: 66\n",
      "ENTER THE NUMBER: 44\n",
      "ENTER THE NUMBER: 22\n",
      "[12, 12, 44, 66, 22, 66, 44, 22]\n"
     ]
    }
   ],
   "source": [
    "user_no = []\n",
    "for x in range(0,10):\n",
    "    x= int(input(\"ENTER THE NUMBER: \"))\n",
    "    if x%2==0:\n",
    "        user_no.append(x)\n",
    "print(user_no)"
   ]
  },
  {
   "cell_type": "markdown",
   "metadata": {},
   "source": [
    "### Questions 2:Create a notebook on LIST COMPREHENSION. This exercise is to put you in a Self learning mode"
   ]
  },
  {
   "cell_type": "code",
   "execution_count": 5,
   "metadata": {},
   "outputs": [
    {
     "name": "stdout",
     "output_type": "stream",
     "text": [
      "[2, 4, 6, 8]\n"
     ]
    }
   ],
   "source": [
    "lst = [1, 2, 3, 4, 5, 6, 7, 8]\n",
    "even_lst = [i for i in lst if i%2==0 ]\n",
    "print(even_lst)"
   ]
  },
  {
   "cell_type": "markdown",
   "metadata": {},
   "source": [
    "### Questions 3:You have seen in the videos how powerful dictionary data structure is.In this assignment, given a number n, you have to write a program that generates a dictionary d whichcontains (i, i*i), where i is from 1 to n (both included).Then you have to just print this dictionary d."
   ]
  },
  {
   "cell_type": "code",
   "execution_count": 7,
   "metadata": {},
   "outputs": [
    {
     "name": "stdout",
     "output_type": "stream",
     "text": [
      "enter number8\n",
      "{1: 1, 2: 4, 3: 9, 4: 16, 5: 25, 6: 36, 7: 49, 8: 64}\n"
     ]
    }
   ],
   "source": [
    "d = {}\n",
    "n = int(input(\"enter number\"))\n",
    "for i in range(1,n+1):\n",
    "  d[i] = i*i\n",
    "print(d)"
   ]
  },
  {
   "cell_type": "markdown",
   "metadata": {},
   "source": [
    "### Questions 4:Write a program to compute the distance between the current position aftera sequence of movement and original point. If the distance is a float, thenjust print the nearest integer (use round() function for that and then convert it into an integer)"
   ]
  },
  {
   "cell_type": "code",
   "execution_count": 8,
   "metadata": {},
   "outputs": [
    {
     "name": "stdout",
     "output_type": "stream",
     "text": [
      "4\n",
      "UP 5\n",
      "DOWN 3\n",
      "LEFT 3\n",
      "RIGHT 2\n",
      "2\n"
     ]
    }
   ],
   "source": [
    "pos = {\"x\":0,\"y\":0}\n",
    "n = int(input())\n",
    "for i in range (n):\n",
    "    move =  input().split(\" \")          \n",
    "    if move[0].lower() == \"up\":\n",
    "        pos[\"y\"] += int(move[1])        \n",
    "    elif move[0].lower() == \"down\":\n",
    "        pos[\"y\"] -= int(move[1])   \n",
    "    elif move[0].lower() == \"left\":\n",
    "        pos[\"x\"] -= int(move[1])    \n",
    "    elif move[0].lower() == \"right\":\n",
    "        pos[\"x\"] += int(move[1])\n",
    "print(int(round((pos[\"x\"]**2 + pos[\"y\"]**2)**0.5))) "
   ]
  },
  {
   "cell_type": "code",
   "execution_count": null,
   "metadata": {},
   "outputs": [],
   "source": []
  }
 ],
 "metadata": {
  "kernelspec": {
   "display_name": "Python 3",
   "language": "python",
   "name": "python3"
  },
  "language_info": {
   "codemirror_mode": {
    "name": "ipython",
    "version": 3
   },
   "file_extension": ".py",
   "mimetype": "text/x-python",
   "name": "python",
   "nbconvert_exporter": "python",
   "pygments_lexer": "ipython3",
   "version": "3.7.6"
  }
 },
 "nbformat": 4,
 "nbformat_minor": 4
}
